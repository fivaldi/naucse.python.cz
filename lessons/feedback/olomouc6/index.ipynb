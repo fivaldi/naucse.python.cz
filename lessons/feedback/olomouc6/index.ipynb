{
 "cells": [
  {
   "cell_type": "markdown",
   "metadata": {},
   "source": [
    "# Zpětná vazba k lekci *Soubory a výjimky*\n",
    "\n",
    "## Zacyklené volání funkcí mezi sebou (chyba v algoritmu)\n",
    "\n",
    "Nežádoucí tzv. rekurze. Python se nezadře, vyhodí časem výjimku `RecursionError`."
   ]
  },
  {
   "cell_type": "code",
   "execution_count": 2,
   "metadata": {},
   "outputs": [
    {
     "ename": "RecursionError",
     "evalue": "maximum recursion depth exceeded",
     "output_type": "error",
     "traceback": [
      "\u001b[0;31m---------------------------------------------------------------------------\u001b[0m",
      "\u001b[0;31mRecursionError\u001b[0m                            Traceback (most recent call last)",
      "\u001b[0;32m<ipython-input-2-b4e485a85e09>\u001b[0m in \u001b[0;36m<module>\u001b[0;34m\u001b[0m\n\u001b[1;32m      6\u001b[0m     \u001b[0msibenice\u001b[0m\u001b[0;34m(\u001b[0m\u001b[0;34m)\u001b[0m  \u001b[0;31m# pokus o opětovné spuštění hry\u001b[0m\u001b[0;34m\u001b[0m\u001b[0;34m\u001b[0m\u001b[0m\n\u001b[1;32m      7\u001b[0m \u001b[0;34m\u001b[0m\u001b[0m\n\u001b[0;32m----> 8\u001b[0;31m \u001b[0msibenice\u001b[0m\u001b[0;34m(\u001b[0m\u001b[0;34m)\u001b[0m\u001b[0;34m\u001b[0m\u001b[0;34m\u001b[0m\u001b[0m\n\u001b[0m",
      "\u001b[0;32m<ipython-input-2-b4e485a85e09>\u001b[0m in \u001b[0;36msibenice\u001b[0;34m()\u001b[0m\n\u001b[1;32m      1\u001b[0m \u001b[0;32mdef\u001b[0m \u001b[0msibenice\u001b[0m\u001b[0;34m(\u001b[0m\u001b[0;34m)\u001b[0m\u001b[0;34m:\u001b[0m\u001b[0;34m\u001b[0m\u001b[0;34m\u001b[0m\u001b[0m\n\u001b[0;32m----> 2\u001b[0;31m     \u001b[0mvyhodnoceni\u001b[0m\u001b[0;34m(\u001b[0m\u001b[0;34m)\u001b[0m\u001b[0;34m\u001b[0m\u001b[0;34m\u001b[0m\u001b[0m\n\u001b[0m\u001b[1;32m      3\u001b[0m     \u001b[0msibenice\u001b[0m\u001b[0;34m(\u001b[0m\u001b[0;34m)\u001b[0m  \u001b[0;31m# pokus o opětovné spuštění hry\u001b[0m\u001b[0;34m\u001b[0m\u001b[0;34m\u001b[0m\u001b[0m\n\u001b[1;32m      4\u001b[0m \u001b[0;34m\u001b[0m\u001b[0m\n\u001b[1;32m      5\u001b[0m \u001b[0;32mdef\u001b[0m \u001b[0mvyhodnoceni\u001b[0m\u001b[0;34m(\u001b[0m\u001b[0;34m)\u001b[0m\u001b[0;34m:\u001b[0m\u001b[0;34m\u001b[0m\u001b[0;34m\u001b[0m\u001b[0m\n",
      "\u001b[0;32m<ipython-input-2-b4e485a85e09>\u001b[0m in \u001b[0;36mvyhodnoceni\u001b[0;34m()\u001b[0m\n\u001b[1;32m      4\u001b[0m \u001b[0;34m\u001b[0m\u001b[0m\n\u001b[1;32m      5\u001b[0m \u001b[0;32mdef\u001b[0m \u001b[0mvyhodnoceni\u001b[0m\u001b[0;34m(\u001b[0m\u001b[0;34m)\u001b[0m\u001b[0;34m:\u001b[0m\u001b[0;34m\u001b[0m\u001b[0;34m\u001b[0m\u001b[0m\n\u001b[0;32m----> 6\u001b[0;31m     \u001b[0msibenice\u001b[0m\u001b[0;34m(\u001b[0m\u001b[0;34m)\u001b[0m  \u001b[0;31m# pokus o opětovné spuštění hry\u001b[0m\u001b[0;34m\u001b[0m\u001b[0;34m\u001b[0m\u001b[0m\n\u001b[0m\u001b[1;32m      7\u001b[0m \u001b[0;34m\u001b[0m\u001b[0m\n\u001b[1;32m      8\u001b[0m \u001b[0msibenice\u001b[0m\u001b[0;34m(\u001b[0m\u001b[0;34m)\u001b[0m\u001b[0;34m\u001b[0m\u001b[0;34m\u001b[0m\u001b[0m\n",
      "... last 2 frames repeated, from the frame below ...\n",
      "\u001b[0;32m<ipython-input-2-b4e485a85e09>\u001b[0m in \u001b[0;36msibenice\u001b[0;34m()\u001b[0m\n\u001b[1;32m      1\u001b[0m \u001b[0;32mdef\u001b[0m \u001b[0msibenice\u001b[0m\u001b[0;34m(\u001b[0m\u001b[0;34m)\u001b[0m\u001b[0;34m:\u001b[0m\u001b[0;34m\u001b[0m\u001b[0;34m\u001b[0m\u001b[0m\n\u001b[0;32m----> 2\u001b[0;31m     \u001b[0mvyhodnoceni\u001b[0m\u001b[0;34m(\u001b[0m\u001b[0;34m)\u001b[0m\u001b[0;34m\u001b[0m\u001b[0;34m\u001b[0m\u001b[0m\n\u001b[0m\u001b[1;32m      3\u001b[0m     \u001b[0msibenice\u001b[0m\u001b[0;34m(\u001b[0m\u001b[0;34m)\u001b[0m  \u001b[0;31m# pokus o opětovné spuštění hry\u001b[0m\u001b[0;34m\u001b[0m\u001b[0;34m\u001b[0m\u001b[0m\n\u001b[1;32m      4\u001b[0m \u001b[0;34m\u001b[0m\u001b[0m\n\u001b[1;32m      5\u001b[0m \u001b[0;32mdef\u001b[0m \u001b[0mvyhodnoceni\u001b[0m\u001b[0;34m(\u001b[0m\u001b[0;34m)\u001b[0m\u001b[0;34m:\u001b[0m\u001b[0;34m\u001b[0m\u001b[0;34m\u001b[0m\u001b[0m\n",
      "\u001b[0;31mRecursionError\u001b[0m: maximum recursion depth exceeded"
     ]
    }
   ],
   "source": [
    "def sibenice():\n",
    "    vyhodnoceni()\n",
    "    sibenice()  # pokus o opětovné spuštění hry\n",
    "\n",
    "def vyhodnoceni():\n",
    "    sibenice()  # pokus o opětovné spuštění hry\n",
    "\n",
    "sibenice()"
   ]
  },
  {
   "cell_type": "markdown",
   "metadata": {},
   "source": [
    "## Co když hledáme znak, ale hráč zadá Enter a vyhodnocuje se prázdný řetězec?"
   ]
  },
  {
   "cell_type": "code",
   "execution_count": null,
   "metadata": {},
   "outputs": [],
   "source": [
    "vstup = input('Zadej písmeno: ')    # po stisku Enter je vstup == ''\n",
    "\n",
    "'d' in 'čokoláda'       # True\n",
    "'x' in 'čokoláda'       # False\n",
    "'' in 'čokoláda'        # True (sic!)\n",
    "\n",
    "'čokoláda'.index('a')   # 7\n",
    "'čokoláda'.index('č')   # 0\n",
    "'čokoláda'.index('')    # 0 (sic!)\n",
    "\n",
    "'čokoláda'.count('')    # 9 (sic!)"
   ]
  },
  {
   "cell_type": "markdown",
   "metadata": {},
   "source": [
    "## Pozor na záludné osamocené zpětné lomítko!"
   ]
  },
  {
   "cell_type": "code",
   "execution_count": 3,
   "metadata": {},
   "outputs": [
    {
     "name": "stdout",
     "output_type": "stream",
     "text": [
      "\n",
      "+---.\n",
      "|   |\n",
      "|   O\n",
      "| --|--\n",
      "|  / |\n",
      "~~~~~~~\n"
     ]
    }
   ],
   "source": [
    "obesenec = \"\"\"\n",
    "+---.\n",
    "|   |\n",
    "|   O\n",
    "| --|--\n",
    "|  / \\\n",
    "|\n",
    "~~~~~~~\"\"\"  # oběšenec s dřevěnou nohou z ráhna šibenice :-)\n",
    "\n",
    "print(obesenec)"
   ]
  },
  {
   "cell_type": "markdown",
   "metadata": {},
   "source": [
    "## Referenční hodnoty (\"etalony\") nutno očistit"
   ]
  },
  {
   "cell_type": "code",
   "execution_count": 55,
   "metadata": {},
   "outputs": [
    {
     "name": "stdout",
     "output_type": "stream",
     "text": [
      "7\n"
     ]
    }
   ],
   "source": [
    "katakana = \"\"\"ァアィイゥウェエォオカガキギクグ\n",
    "            ケゲコゴサザシジスズセゼソゾタダチ\n",
    "            ヂッツヅテデトドナニヌネノハバパヒ\n",
    "            ビピフブプヘベペホボポマミムメモャ\n",
    "            ヤュユョヨラリルレロヮワヰヱヲンヴ\n",
    "            ヵヶヷヸヹヺ\"\"\"\n",
    "\n",
    "# text je \"ァアィ  イゥ\"\n",
    "for znak in text:\n",
    "    if znak in katakana:\n",
    "        pocet_katakana += 1  # chybně se započítávají i ' ' a '\\n'\n",
    "\n",
    "print(pocet_katakana)"
   ]
  },
  {
   "cell_type": "markdown",
   "metadata": {},
   "source": [
    "Jedno z jednodušších řešení:"
   ]
  },
  {
   "cell_type": "code",
   "execution_count": 50,
   "metadata": {},
   "outputs": [
    {
     "name": "stdout",
     "output_type": "stream",
     "text": [
      "ァアィイゥウェエォオカガキギクグケゲコゴサザシジスズセゼソゾタダチヂッツヅテデトドナニヌネノハバパヒビピフブプヘベペホボポマミムメモャヤュユョヨラリルレロヮワヰヱヲンヴヵヶヷヸヹヺ\n"
     ]
    }
   ],
   "source": [
    "katakana = ''.join(katakana.split())\n",
    "print(katakana)"
   ]
  },
  {
   "cell_type": "markdown",
   "metadata": {},
   "source": [
    "## Hra Šibenice: Při otevírání souborů je vhodné ošetřit výjimku `FileNotFoundError`\n",
    "\n",
    "Konkrétně u kódu hry Šibenice se jednalo o výjimku, která neovlivňuje / neohrožuje fungování hry, takže je vhodné tuto výjimku ošetřit.\n",
    "\n",
    "Chybový výstup by měl podávat co nejvíc relevantních informací. Uživatelský výstup by měl být natolik sdílný, aby bylo možno chybu dohledat, ale neměl by vyzrazovat citlivé informace o aplikaci samotné nebo datech.\n",
    "\n",
    "Aplikace by měla být připravena na to, že chybí nebo nefunguje nějaká její klíčová kompomenta nebo nemá potřebná data."
   ]
  },
  {
   "cell_type": "code",
   "execution_count": 29,
   "metadata": {},
   "outputs": [
    {
     "name": "stdout",
     "output_type": "stream",
     "text": [
      "Nebyl nalezen obrázek k počtu chyb 0\n"
     ]
    }
   ],
   "source": [
    "try:\n",
    "    with open(\"obrazek\" + str(chyba) + \".txt\", encoding=\"utf-8\") as soubor:\n",
    "        obsah = soubor.read()\n",
    "except FileNotFoundError:\n",
    "    print(\"Nebyl nalezen obrázek k počtu chyb\", chyba)"
   ]
  },
  {
   "cell_type": "markdown",
   "metadata": {},
   "source": [
    "### Řešení pomocí modulu `logging`"
   ]
  },
  {
   "cell_type": "code",
   "execution_count": 42,
   "metadata": {},
   "outputs": [
    {
     "name": "stderr",
     "output_type": "stream",
     "text": [
      "ERROR:root:Soubor s nezbytnými daty 'katalogovy-list-SN56.txt' nebyl nalezen. Produkt: SN56132746-54600-5\n",
      "Traceback (most recent call last):\n",
      "  File \"<ipython-input-42-beb0234b3389>\", line 5, in <module>\n",
      "    with open(\"katalogovy-list-\" + produkt[0:4] + \".txt\", encoding=\"utf-8\") as soubor:\n",
      "FileNotFoundError: [Errno 2] No such file or directory: 'katalogovy-list-SN56.txt'\n"
     ]
    },
    {
     "ename": "FileNotFoundError",
     "evalue": "[Errno 2] No such file or directory: 'katalogovy-list-SN56.txt'",
     "output_type": "error",
     "traceback": [
      "\u001b[0;31m---------------------------------------------------------------------------\u001b[0m",
      "\u001b[0;31mFileNotFoundError\u001b[0m                         Traceback (most recent call last)",
      "\u001b[0;32m<ipython-input-42-beb0234b3389>\u001b[0m in \u001b[0;36m<module>\u001b[0;34m\u001b[0m\n\u001b[1;32m      3\u001b[0m \u001b[0;34m\u001b[0m\u001b[0m\n\u001b[1;32m      4\u001b[0m \u001b[0;32mtry\u001b[0m\u001b[0;34m:\u001b[0m\u001b[0;34m\u001b[0m\u001b[0;34m\u001b[0m\u001b[0m\n\u001b[0;32m----> 5\u001b[0;31m     \u001b[0;32mwith\u001b[0m \u001b[0mopen\u001b[0m\u001b[0;34m(\u001b[0m\u001b[0;34m\"katalogovy-list-\"\u001b[0m \u001b[0;34m+\u001b[0m \u001b[0mprodukt\u001b[0m\u001b[0;34m[\u001b[0m\u001b[0;36m0\u001b[0m\u001b[0;34m:\u001b[0m\u001b[0;36m4\u001b[0m\u001b[0;34m]\u001b[0m \u001b[0;34m+\u001b[0m \u001b[0;34m\".txt\"\u001b[0m\u001b[0;34m,\u001b[0m \u001b[0mencoding\u001b[0m\u001b[0;34m=\u001b[0m\u001b[0;34m\"utf-8\"\u001b[0m\u001b[0;34m)\u001b[0m \u001b[0;32mas\u001b[0m \u001b[0msoubor\u001b[0m\u001b[0;34m:\u001b[0m\u001b[0;34m\u001b[0m\u001b[0;34m\u001b[0m\u001b[0m\n\u001b[0m\u001b[1;32m      6\u001b[0m         \u001b[0mobsah\u001b[0m \u001b[0;34m=\u001b[0m \u001b[0msoubor\u001b[0m\u001b[0;34m.\u001b[0m\u001b[0mread\u001b[0m\u001b[0;34m(\u001b[0m\u001b[0;34m)\u001b[0m\u001b[0;34m\u001b[0m\u001b[0;34m\u001b[0m\u001b[0m\n\u001b[1;32m      7\u001b[0m \u001b[0;32mexcept\u001b[0m \u001b[0mFileNotFoundError\u001b[0m \u001b[0;32mas\u001b[0m \u001b[0me\u001b[0m\u001b[0;34m:\u001b[0m\u001b[0;34m\u001b[0m\u001b[0;34m\u001b[0m\u001b[0m\n",
      "\u001b[0;31mFileNotFoundError\u001b[0m: [Errno 2] No such file or directory: 'katalogovy-list-SN56.txt'"
     ]
    }
   ],
   "source": [
    "import logging  # modul pro sbirani zaznamu o behu programu, varovanich, chybach a vyjimkach\n",
    "                # uzivateli, do souboru, na vzdaleny server atd. (jsou mozne kombinace vseho)\n",
    "\n",
    "try:\n",
    "    with open(\"katalogovy-list-\" + produkt[0:4] + \".txt\", encoding=\"utf-8\") as soubor:\n",
    "        obsah = soubor.read()\n",
    "except FileNotFoundError as e:\n",
    "    #\n",
    "    # tady program vrati chybovou hlasku na web stranku, napr.:\n",
    "    #     Pri importu produktu SN56132746-54600-5 doslo k chybe. Import bude zastaven.\n",
    "    #\n",
    "    logging.exception(\"Soubor s nezbytnými daty '{}' nebyl nalezen. Produkt: {}\".format(e.filename, produkt))\n",
    "    raise  # chceme vyvolat vyjimku, protoze bez dat program nemuze dale pokracovat\n",
    "           # hrozi nekonzistence dat pri neuplnem importu"
   ]
  },
  {
   "cell_type": "markdown",
   "metadata": {},
   "source": [
    "## Elegantní načtení souboru `sibenice.txt` (s pomocí seznamů, které se naučíme dnes 😺)"
   ]
  },
  {
   "cell_type": "code",
   "execution_count": null,
   "metadata": {},
   "outputs": [],
   "source": [
    "with open('sibenice.txt', encoding='utf-8') as soubor:\n",
    "    obsah_souboru = soubor.read()\n",
    "sibenice = obsah_souboru.split('------------------')\n",
    "\n",
    "sibenice[5]     # obsahuje textový obrázek šibenice, úroveň 5"
   ]
  }
 ],
 "metadata": {
  "kernelspec": {
   "display_name": "Python 3",
   "language": "python",
   "name": "python3"
  },
  "language_info": {
   "codemirror_mode": {
    "name": "ipython",
    "version": 3
   },
   "file_extension": ".py",
   "mimetype": "text/x-python",
   "name": "python",
   "nbconvert_exporter": "python",
   "pygments_lexer": "ipython3",
   "version": "3.6.9"
  }
 },
 "nbformat": 4,
 "nbformat_minor": 4
}
