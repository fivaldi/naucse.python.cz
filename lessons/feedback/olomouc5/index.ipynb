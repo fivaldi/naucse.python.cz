{
 "cells": [
  {
   "cell_type": "markdown",
   "metadata": {},
   "source": [
    "# Zpětná vazba k projektům lekce *Funkce a řetězce*"
   ]
  },
  {
   "cell_type": "markdown",
   "metadata": {},
   "source": [
    "## Highlights"
   ]
  },
  {
   "cell_type": "markdown",
   "metadata": {},
   "source": [
    "Kultura kódu:\n",
    "- importy na prvním místě\n",
    "- výchozí hodnoty proměnných\n",
    "- definice funkcí\n",
    "- komentáře\n",
    "- spuštění hlavní funkce programu\n",
    "\n",
    "**OBROVSKÁ POCHVALA!**"
   ]
  },
  {
   "cell_type": "markdown",
   "metadata": {},
   "source": [
    "## Vývojářská slepota, např.: range(1)"
   ]
  },
  {
   "cell_type": "code",
   "execution_count": null,
   "metadata": {},
   "outputs": [],
   "source": [
    "for cary in range(1):\n",
    "    left(45)\n",
    "    forward(sqrt(2)*x)\n",
    "    left(135)\n",
    "    forward(x)\n",
    "    left(135)\n",
    "    forward(sqrt(2)*x)"
   ]
  },
  {
   "cell_type": "markdown",
   "metadata": {},
   "source": [
    "Provádíme úpravy, úpravy, úpravy, až zbyde něco jako range(1).\n",
    "\n",
    "V reálném vývoji software tento problém řeší tzv. *code reviews* (systém 2 párů oči). Pokud provádíme vývoji sami, je vhodné si nechat odstup alespoň 24 hodin a podívat se na vlastní kód znovu, nejdřív blok po bloku, pak řádek po řádku...\n",
    "\n",
    "### Duplikovaný (nebo skoro identický) kód\n",
    "\n",
    "Další důsledek vývojářské slepoty. Lze odstranit pomocí chytře zkonstruovaných funkcí, přidaných argumentů apod. Ideální je opět systém 2 párů očí pro odhalení duplicit v kódu. "
   ]
  },
  {
   "cell_type": "markdown",
   "metadata": {},
   "source": [
    "## Indexování"
   ]
  },
  {
   "cell_type": "markdown",
   "metadata": {},
   "source": [
    "Začínámé **vždy od nuly**. Jsme prostě divní programátoři a divné programátorky. :-) "
   ]
  },
  {
   "cell_type": "code",
   "execution_count": null,
   "metadata": {},
   "outputs": [],
   "source": [
    "range(5)  # 0, 1, 2, 3, 4"
   ]
  },
  {
   "cell_type": "code",
   "execution_count": null,
   "metadata": {},
   "outputs": [],
   "source": [
    "\"čokoláda\"[0]  # \"č\""
   ]
  },
  {
   "cell_type": "markdown",
   "metadata": {},
   "source": [
    "## Nejlepší hra Piškvorky 1D se strategií, by **Martina Bradáčová**"
   ]
  },
  {
   "cell_type": "code",
   "execution_count": null,
   "metadata": {},
   "outputs": [],
   "source": [
    "from random import randrange\n",
    "\n",
    "\n",
    "def tah(pole, cislo_policka, symbol):\n",
    "    \"Vrátí herní pole s daným symbolem umístěným na danou pozici\"\n",
    "    return pole[:cislo_policka] + symbol + pole[cislo_policka + 1:]\n",
    "\n",
    "\n",
    "def tah_hrace(pole, symbol):\n",
    "    \"Vrátí herní pole se zaznamenaným tahem hráče\"\n",
    "    while True:\n",
    "        cislo_policka = int(input('Zadejte cislo políčka: '))\n",
    "        if cislo_policka >= len(pole) or cislo_policka < 0:\n",
    "            print('Vaše volba je mimo rozsah pole. Zkuste to znovu!')\n",
    "        elif pole[cislo_policka] == '-':\n",
    "            return tah(pole, cislo_policka, symbol)\n",
    "        else:\n",
    "            print('Toto pole je už obsazené. Zkuste to znovu!')\n",
    "\n",
    "\n",
    "def tah_pocitace(pole, symbol_hrace, symbol_pocitace):\n",
    "    \"Vrátí herní pole se zaznamenaným tahem počítače\"\n",
    "    if pole.find(symbol_pocitace + symbol_pocitace + '-') > -1:\n",
    "        cislo_policka = pole.find(symbol_pocitace + symbol_pocitace + '-') + 2\n",
    "    elif pole.find('-' + symbol_pocitace + symbol_pocitace) > -1:\n",
    "        cislo_policka = pole.find('-' + symbol_pocitace + symbol_pocitace)\n",
    "    elif pole.find(symbol_pocitace + '-' + symbol_pocitace) > -1:\n",
    "        cislo_policka = pole.find(symbol_pocitace + '-' + symbol_pocitace) + 1\n",
    "    elif pole.find(symbol_hrace + '-') > -1:\n",
    "        cislo_policka = pole.find(symbol_hrace + '-') + 1\n",
    "    elif pole.find('-' + symbol_hrace + symbol_hrace) > -1:\n",
    "        cislo_policka = pole.find('-' + symbol_hrace + symbol_hrace)\n",
    "    elif pole.find(symbol_pocitace + '-' + '-') > -1:\n",
    "        cislo_policka = pole.find(symbol_pocitace + '-' + '-') + 1\n",
    "    elif pole.find('-' + '-' + symbol_pocitace) > -1:\n",
    "        cislo_policka = pole.find('-' + '-' + symbol_pocitace) + 1\n",
    "    elif pole.find('-' + symbol_hrace) > -1:\n",
    "        cislo_policka = pole.find('-' + symbol_hrace)\n",
    "    else:\n",
    "        cislo_policka = pole.find('-')\n",
    "    print('tah pocitace:', cislo_policka)\n",
    "    return tah(pole, cislo_policka, symbol_pocitace)\n",
    "\n",
    "\n",
    "def vyhodnot(herni_pole):\n",
    "    \"Vrátí výsledek hry\"\n",
    "    if herni_pole.find('xxx') != -1:\n",
    "        vysledek = 'x'\n",
    "    elif herni_pole.find('ooo') != -1:\n",
    "        vysledek = 'o'\n",
    "    elif herni_pole.find('-') == -1:\n",
    "        vysledek = '!'\n",
    "    else:\n",
    "        vysledek = '-'\n",
    "    return vysledek\n",
    "\n",
    "\n",
    "def piskvorky1d(pole, symbol_hrace, symbol_pocitace):\n",
    "    while True:\n",
    "        pole = tah_hrace(pole, symbol_hrace)\n",
    "        print(pole)\n",
    "        vysledek = vyhodnot(pole)\n",
    "        if vysledek == symbol_hrace:\n",
    "            konec_hry = 'Vyhrál jste'\n",
    "            break\n",
    "        elif vysledek == '!':\n",
    "            konec_hry = 'Remíza'\n",
    "            break\n",
    "\n",
    "        pole = tah_pocitace(pole, symbol_hrace, symbol_pocitace)\n",
    "        print(pole)\n",
    "        vysledek = vyhodnot(pole)\n",
    "        if vysledek == symbol_pocitace:\n",
    "            konec_hry = 'Počítač vyhrál'\n",
    "            break\n",
    "        elif vysledek == '!':\n",
    "            konec_hry = 'Remíza'\n",
    "            break\n",
    "\n",
    "    return konec_hry\n",
    "\n",
    "\n",
    "# Zkouška funkce\n",
    "vychozi_pole = 20*'-'\n",
    "symbol_hrace = 'x'\n",
    "symbol_pocitace = 'o'\n",
    "print(vychozi_pole)\n",
    "print(piskvorky1d(vychozi_pole, symbol_hrace, symbol_pocitace))"
   ]
  }
 ],
 "metadata": {
  "kernelspec": {
   "display_name": "Python 3",
   "language": "python",
   "name": "python3"
  },
  "language_info": {
   "codemirror_mode": {
    "name": "ipython",
    "version": 3
   },
   "file_extension": ".py",
   "mimetype": "text/x-python",
   "name": "python",
   "nbconvert_exporter": "python",
   "pygments_lexer": "ipython3",
   "version": "3.6.9"
  }
 },
 "nbformat": 4,
 "nbformat_minor": 4
}
