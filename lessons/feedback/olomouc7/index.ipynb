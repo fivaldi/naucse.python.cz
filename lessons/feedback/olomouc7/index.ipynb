{
 "cells": [
  {
   "cell_type": "markdown",
   "metadata": {},
   "source": [
    "# Zpětná vazba k lekci *Seznamy*\n",
    "\n",
    "## TOP domácí projekty\n",
    "\n",
    "- **Martina**\n",
    "- Markéta\n",
    "- Tereza\n",
    "- Aleš\n",
    "- *Všichni, kdo (do)odevzdali...*"
   ]
  },
  {
   "cell_type": "markdown",
   "metadata": {},
   "source": [
    "## Hra \"Had\" 🐍\n",
    "\n",
    "- Pořadí souřadnic: `výška x šířka` vs. `šířka x výška`\n",
    "- Varianty:\n",
    "  - had pod ovocem, tzv. \"lenochod\"\n",
    "  - vybíravý had (nebo nepoživatelné ovoce?)\n",
    "  - had Copperfield/démon, kterému je vidět do žaludku\n",
    "  - herní pole zavalené lavinou potravy (dvojice souřadnic)\n",
    "\n",
    "## Knihovna curses (windows-curses)\n",
    "\n",
    "- \"Okénkové programy\", jednoduché hry apod. v konzoli/terminálu/příkazové řádce\n",
    "- [Více zde](https://docs.python.org/3/howto/curses.html)"
   ]
  },
  {
   "cell_type": "markdown",
   "metadata": {},
   "source": [
    "## Záludnost seznamů\n",
    "\n",
    "Seznam předaný dovnitř funkce do libovolné lokální proměnné (proměnných) je ve finále stále **jeden a ten samý seznam na jednom místě v paměti**."
   ]
  },
  {
   "cell_type": "code",
   "execution_count": 2,
   "metadata": {},
   "outputs": [
    {
     "name": "stdout",
     "output_type": "stream",
     "text": [
      "[1, 2, 3]\n"
     ]
    }
   ],
   "source": [
    "seznam = [3, 1, 2]\n",
    "\n",
    "def setridit(szn):\n",
    "   s = szn\n",
    "   s.sort()\n",
    "   \n",
    "setridit(seznam)\n",
    "print(seznam)"
   ]
  },
  {
   "cell_type": "markdown",
   "metadata": {},
   "source": [
    "[Vizualizace](http://pythontutor.com/visualize.html#code=seznam%20%3D%20%5B3,%201,%202%5D%0A%0Adef%20setridit%28szn%29%3A%0A%20%20%20s%20%3D%20szn%0A%20%20%20s.sort%28%29%0A%20%20%20%0Asetridit%28seznam%29%0Aprint%28seznam%29&cumulative=false&curInstr=0&heapPrimitives=nevernest&mode=display&origin=opt-frontend.js&py=3&rawInputLstJSON=%5B%5D&textReferences=false)"
   ]
  },
  {
   "cell_type": "markdown",
   "metadata": {},
   "source": [
    "## Zadání projektu (připomenutí)\n",
    "\n",
    "- Projít si od začátku do konce.\n",
    "- Podívat se, jaké proměnné budou použity, funkce, bloky atd.\n",
    "- Konzultovat nejasnosti.\n",
    "- Lépe se pochopí fungování dílčích částí..."
   ]
  },
  {
   "cell_type": "markdown",
   "metadata": {},
   "source": [
    "## Funkce uvnitř funkce"
   ]
  },
  {
   "cell_type": "code",
   "execution_count": 6,
   "metadata": {},
   "outputs": [
    {
     "name": "stdout",
     "output_type": "stream",
     "text": [
      "Bééé\n"
     ]
    },
    {
     "ename": "NameError",
     "evalue": "name 'b' is not defined",
     "output_type": "error",
     "traceback": [
      "\u001b[0;31m---------------------------------------------------------------------------\u001b[0m",
      "\u001b[0;31mNameError\u001b[0m                                 Traceback (most recent call last)",
      "\u001b[0;32m<ipython-input-6-6149e301b1f9>\u001b[0m in \u001b[0;36m<module>\u001b[0;34m\u001b[0m\n\u001b[1;32m      5\u001b[0m \u001b[0;34m\u001b[0m\u001b[0m\n\u001b[1;32m      6\u001b[0m \u001b[0ma\u001b[0m\u001b[0;34m(\u001b[0m\u001b[0;34m)\u001b[0m\u001b[0;34m\u001b[0m\u001b[0;34m\u001b[0m\u001b[0m\n\u001b[0;32m----> 7\u001b[0;31m \u001b[0mb\u001b[0m\u001b[0;34m(\u001b[0m\u001b[0;34m)\u001b[0m\u001b[0;34m\u001b[0m\u001b[0;34m\u001b[0m\u001b[0m\n\u001b[0m",
      "\u001b[0;31mNameError\u001b[0m: name 'b' is not defined"
     ]
    }
   ],
   "source": [
    "def a():\n",
    "    def b():\n",
    "        print(\"Bééé\")\n",
    "    b()\n",
    "    \n",
    "a()\n",
    "b()"
   ]
  },
  {
   "cell_type": "markdown",
   "metadata": {},
   "source": [
    "## Rekurze v seznamu"
   ]
  },
  {
   "cell_type": "code",
   "execution_count": 9,
   "metadata": {},
   "outputs": [
    {
     "name": "stdout",
     "output_type": "stream",
     "text": [
      "[5, 5, 5, 5, 5, [...]]\n",
      "5\n"
     ]
    }
   ],
   "source": [
    "seznam = [5, 5, 5, 5, 5, 5]\n",
    "seznam[5] = seznam\n",
    "print(seznam)\n",
    "print(seznam[5][5][5][5][5][5][5][5][5][5][5][5][5][5][5][5][5][5][0])"
   ]
  },
  {
   "cell_type": "markdown",
   "metadata": {},
   "source": [
    "## Výchozí hodnota ve funkci"
   ]
  },
  {
   "cell_type": "code",
   "execution_count": 14,
   "metadata": {},
   "outputs": [
    {
     "name": "stdout",
     "output_type": "stream",
     "text": [
      "['kočka', 'králík']\n",
      "['had']\n"
     ]
    }
   ],
   "source": [
    "domaci_zvirata = [\"pes\", \"kočka\", \"králík\", \"had\"]\n",
    "\n",
    "def prvni_pismeno(domaci_zvirata, pismeno):\n",
    "    zvire_na_pismeno = []\n",
    "    for zvire in domaci_zvirata:\n",
    "        if zvire.startswith(pismeno):\n",
    "            zvire_na_pismeno.append(zvire)\n",
    "    return zvire_na_pismeno\n",
    "\n",
    "print(prvni_pismeno(domaci_zvirata, \"k\"))\n",
    "print(prvni_pismeno(domaci_zvirata, \"h\"))"
   ]
  },
  {
   "cell_type": "markdown",
   "metadata": {},
   "source": [
    "Chceme použít výchozí písmeno (např. \"k\") => použijeme pojmenovaný argument"
   ]
  },
  {
   "cell_type": "code",
   "execution_count": 17,
   "metadata": {},
   "outputs": [
    {
     "name": "stdout",
     "output_type": "stream",
     "text": [
      "['kočka', 'králík']\n",
      "['had']\n"
     ]
    }
   ],
   "source": [
    "domaci_zvirata = [\"pes\", \"kočka\", \"králík\", \"had\"]\n",
    "\n",
    "def prvni_pismeno(domaci_zvirata, pismeno=\"k\"):\n",
    "    zvire_na_pismeno = []\n",
    "    for zvire in domaci_zvirata:\n",
    "        if zvire.startswith(pismeno):\n",
    "            zvire_na_pismeno.append(zvire)\n",
    "    return zvire_na_pismeno\n",
    "\n",
    "print(prvni_pismeno(domaci_zvirata))\n",
    "print(prvni_pismeno(domaci_zvirata, \"h\"))"
   ]
  },
  {
   "cell_type": "markdown",
   "metadata": {},
   "source": [
    "**Výchozí hodnota MUSÍ být vždy tzv. immutable: int, float, bool, str, tuple, None**"
   ]
  },
  {
   "cell_type": "markdown",
   "metadata": {},
   "source": [
    "## Třídění seznamů\n",
    "\n",
    "- Kapitola sama pro sebe.\n",
    "- Spousty algoritmů, každý má své plusy a mínusy. Lze si napsat vlastní algoritmus. My vystačíme pro začátek se `.sort()`.\n",
    "- Klíč: `sort(key=<typicky funkce>, reverse=...)`\n",
    "- *lambda funkce*\n",
    "\n",
    "Funkce `sorted`:"
   ]
  },
  {
   "cell_type": "code",
   "execution_count": 33,
   "metadata": {},
   "outputs": [
    {
     "name": "stdout",
     "output_type": "stream",
     "text": [
      "[3, 1, 2]\n",
      "[1, 2, 3]\n"
     ]
    }
   ],
   "source": [
    "a = [3, 1, 2]\n",
    "b = sorted(a)\n",
    "\n",
    "print(a)\n",
    "print(b)"
   ]
  },
  {
   "cell_type": "markdown",
   "metadata": {},
   "source": [
    "## List comprehension"
   ]
  },
  {
   "cell_type": "code",
   "execution_count": 38,
   "metadata": {},
   "outputs": [],
   "source": [
    "a = list()\n",
    "for i in range(10):\n",
    "    a.append(i)"
   ]
  },
  {
   "cell_type": "code",
   "execution_count": 20,
   "metadata": {},
   "outputs": [
    {
     "data": {
      "text/plain": [
       "[0, 1, 2, 3, 4, 5, 6, 7, 8, 9]"
      ]
     },
     "execution_count": 20,
     "metadata": {},
     "output_type": "execute_result"
    }
   ],
   "source": [
    "[i for i in range(10)]"
   ]
  },
  {
   "cell_type": "code",
   "execution_count": 23,
   "metadata": {},
   "outputs": [
    {
     "data": {
      "text/plain": [
       "[0, 2, 4, 6, 8]"
      ]
     },
     "execution_count": 23,
     "metadata": {},
     "output_type": "execute_result"
    }
   ],
   "source": [
    "[i for i in range(10) if i % 2 == 0]"
   ]
  },
  {
   "cell_type": "code",
   "execution_count": 18,
   "metadata": {},
   "outputs": [
    {
     "name": "stdout",
     "output_type": "stream",
     "text": [
      "[['.', '.', '.'], ['.', '.', '.'], ['.', '.', '.']]\n"
     ]
    }
   ],
   "source": [
    "x = []\n",
    "for i in range(3):\n",
    "    y = []\n",
    "    for j in range(3):\n",
    "        y.append(\".\")\n",
    "    x.append(y)\n",
    "    \n",
    "print(x)"
   ]
  },
  {
   "cell_type": "markdown",
   "metadata": {},
   "source": [
    "Nebo..."
   ]
  },
  {
   "cell_type": "code",
   "execution_count": 19,
   "metadata": {},
   "outputs": [
    {
     "name": "stdout",
     "output_type": "stream",
     "text": [
      "[['.', '.', '.'], ['.', '.', '.'], ['.', '.', '.']]\n"
     ]
    }
   ],
   "source": [
    "x = [[\".\" for j in range(3)] for i in range(3)]\n",
    "print(x)"
   ]
  },
  {
   "cell_type": "markdown",
   "metadata": {},
   "source": [
    "### Kde je problém s `[[\".\"] * 3] * 3`?"
   ]
  },
  {
   "cell_type": "code",
   "execution_count": null,
   "metadata": {},
   "outputs": [],
   "source": [
    "x = [[\".\"] * 3] * 3\n",
    "x[1][0] = \"X\"\n",
    "print(x)"
   ]
  },
  {
   "cell_type": "code",
   "execution_count": 30,
   "metadata": {},
   "outputs": [
    {
     "name": "stdout",
     "output_type": "stream",
     "text": [
      "[['.', '.', '.'], ['X', '.', '.'], ['.', '.', '.']]\n"
     ]
    }
   ],
   "source": [
    "x = [[\".\"] * 3 for i in range(3)]\n",
    "x[1][0] = \"X\"\n",
    "print(x)"
   ]
  },
  {
   "cell_type": "markdown",
   "metadata": {},
   "source": [
    "## Nástroje pro porovnání kódu\n",
    "\n",
    "- Dnes již běžná součást služeb GitHub apod.\n",
    "- Součást textových editorů\n",
    "- [Atom](https://atom.io/packages/split-diff)\n",
    "- vimdiff\n",
    "- Online služby: [Příklad](https://www.diffchecker.com/iW2c5Qv6)"
   ]
  },
  {
   "cell_type": "markdown",
   "metadata": {},
   "source": [
    "## Obecné věci\n",
    "\n",
    "- Než udělám akci, provedu (obvykle) nejdříve kontroly:\n",
    "  - Typicky uživatelský vstup\n",
    "  - Hra \"Had\", než udělám pohyb na novou pozici:\n",
    "     - Je tam konec plánu? => Konec hry.\n",
    "     - Jsem tam já, tzn. hrozí, že se kousnu? => Konec hry.\n",
    "     - Je tam ovoce? => Nechám hada narůst.\n",
    "     - Pohyb => Uložím údaj o nové pozici.\n"
   ]
  }
 ],
 "metadata": {
  "kernelspec": {
   "display_name": "Python 3",
   "language": "python",
   "name": "python3"
  },
  "language_info": {
   "codemirror_mode": {
    "name": "ipython",
    "version": 3
   },
   "file_extension": ".py",
   "mimetype": "text/x-python",
   "name": "python",
   "nbconvert_exporter": "python",
   "pygments_lexer": "ipython3",
   "version": "3.6.9"
  }
 },
 "nbformat": 4,
 "nbformat_minor": 4
}
