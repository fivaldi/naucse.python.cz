{
 "cells": [
  {
   "cell_type": "markdown",
   "metadata": {},
   "source": [
    "# Zpětná vazba k projektům lekce *První program*\n",
    "\n",
    "## 1. Napíšeš v příkazu print(1, 2, 3) čárku navíc?\n",
    "\n",
    "   Záleží na tom, kam tu čárku napíšeme.\n",
    "   - Pokud za celočíslený argument 3, nic se neděje.\n",
    "   - Pokud na konec, Python vytvoří *n-tici* z výsledku volání funkce print (`None`).\n",
    "   - Pokud jinam, jde o SyntaxError"
   ]
  },
  {
   "cell_type": "code",
   "execution_count": 4,
   "metadata": {},
   "outputs": [
    {
     "name": "stdout",
     "output_type": "stream",
     "text": [
      "1 2 3\n"
     ]
    }
   ],
   "source": [
    "print(1, 2, 3,)"
   ]
  },
  {
   "cell_type": "code",
   "execution_count": 5,
   "metadata": {},
   "outputs": [
    {
     "name": "stdout",
     "output_type": "stream",
     "text": [
      "1 2 3\n"
     ]
    },
    {
     "data": {
      "text/plain": [
       "(None,)"
      ]
     },
     "execution_count": 5,
     "metadata": {},
     "output_type": "execute_result"
    }
   ],
   "source": [
    "print(1, 2, 3),"
   ]
  },
  {
   "cell_type": "code",
   "execution_count": 3,
   "metadata": {},
   "outputs": [
    {
     "ename": "SyntaxError",
     "evalue": "invalid syntax (<ipython-input-3-940877b23067>, line 1)",
     "output_type": "error",
     "traceback": [
      "\u001b[0;36m  File \u001b[0;32m\"<ipython-input-3-940877b23067>\"\u001b[0;36m, line \u001b[0;32m1\u001b[0m\n\u001b[0;31m    print(1,, 2, 3)\u001b[0m\n\u001b[0m            ^\u001b[0m\n\u001b[0;31mSyntaxError\u001b[0m\u001b[0;31m:\u001b[0m invalid syntax\n"
     ]
    }
   ],
   "source": [
    "print(1,, 2, 3)"
   ]
  },
  {
   "cell_type": "markdown",
   "metadata": {},
   "source": [
    "## 5. Ne všechno se dá použít jako jméno proměnné. Fungují pro proměnné následující jména? Pokud ne, proč asi?"
   ]
  },
  {
   "cell_type": "markdown",
   "metadata": {},
   "source": [
    "```\n",
    "x          krůta            kratsiStrana    True\n",
    "tlacitko4  $i               POCET_BODU      _cache\n",
    "34         druha-odmocnina  _ (podtržítko)  __name__\n",
    "3e4        readme.txt       π (pí)          while\n",
    "```"
   ]
  },
  {
   "cell_type": "markdown",
   "metadata": {},
   "source": [
    "## 8. Ulož si následující program jako `pokus.py` a spusť ho několikrát za sebou. Co dělá?"
   ]
  },
  {
   "cell_type": "code",
   "execution_count": 6,
   "metadata": {},
   "outputs": [
    {
     "name": "stdout",
     "output_type": "stream",
     "text": [
      "2\n"
     ]
    }
   ],
   "source": [
    "from random import randrange  # z knihovny random (soucast The Python Standard Library) si vtahnu do sveho programu funkci randrange\n",
    "cislo = randrange(3)\n",
    "print(cislo)"
   ]
  },
  {
   "cell_type": "code",
   "execution_count": 7,
   "metadata": {},
   "outputs": [
    {
     "name": "stdout",
     "output_type": "stream",
     "text": [
      "0\n"
     ]
    }
   ],
   "source": [
    "from random import randrange\n",
    "cislo = randrange(3)\n",
    "print(cislo)"
   ]
  },
  {
   "cell_type": "code",
   "execution_count": 11,
   "metadata": {},
   "outputs": [
    {
     "name": "stdout",
     "output_type": "stream",
     "text": [
      "0\n"
     ]
    }
   ],
   "source": [
    "from random import randrange\n",
    "cislo = randrange(3)\n",
    "print(cislo)"
   ]
  },
  {
   "cell_type": "markdown",
   "metadata": {},
   "source": [
    "## 9. Zkombinuj program z předchozího projektu s programem kámen-nůžky-papír a nastav tah_pocitace na:\n",
    "\n",
    "- `'kámen'`, pokud je cislo 0,\n",
    "- `'nůžky'`, pokud je cislo 1,\n",
    "- jinak na `'papír'`.\n"
   ]
  },
  {
   "cell_type": "code",
   "execution_count": 18,
   "metadata": {},
   "outputs": [
    {
     "name": "stdout",
     "output_type": "stream",
     "text": [
      "papír\n"
     ]
    }
   ],
   "source": [
    "from random import randrange\n",
    "cislo = randrange(3)\n",
    "tah_pocitace = cislo\n",
    "\n",
    "if cislo == 0:\n",
    "    tah_pocitace = \"kámen\"\n",
    "elif cislo == 1:\n",
    "    tah_pocitace = \"nůžky\"\n",
    "else:\n",
    "    tah_pocitace = \"papír\"\n",
    "    \n",
    "print(tah_pocitace)"
   ]
  },
  {
   "cell_type": "code",
   "execution_count": 35,
   "metadata": {},
   "outputs": [
    {
     "name": "stdout",
     "output_type": "stream",
     "text": [
      "nůžky\n"
     ]
    }
   ],
   "source": [
    "from random import randrange\n",
    "cislo = randrange(3)\n",
    "tah_pocitace = cislo\n",
    "\n",
    "# prednastavim hodnotu na \"papír\"\n",
    "tah_pocitace = \"papír\"\n",
    "if cislo == 0:\n",
    "    tah_pocitace = \"kámen\"\n",
    "elif cislo == 1:\n",
    "    tah_pocitace = \"nůžky\"\n",
    "    \n",
    "print(tah_pocitace)"
   ]
  },
  {
   "cell_type": "markdown",
   "metadata": {},
   "source": [
    "## 11. Zkusila jsi porovnávat řetězce? Doplň tuhle tabulku tužkou; pak ověř odpovědi pomocí Pythonu:\n",
    "| a | | b | \n",
    "|---|-|---|\n",
    "| 2 | > | 1 | \n",
    "| 1 | < | 2 | \n",
    "| 'abc' | == | 'abc' | \n",
    "| 'aaa' | < | 'abc' | \n",
    "| 'abc' | > | 'Abc' | \n",
    "| 'abC' | < | 'abc' | \n",
    "| 'abc' | < | 'abcde' | \n",
    "| 'abc' | < | 'ábč' | \n"
   ]
  },
  {
   "cell_type": "code",
   "execution_count": 38,
   "metadata": {},
   "outputs": [
    {
     "data": {
      "text/plain": [
       "True"
      ]
     },
     "execution_count": 38,
     "metadata": {},
     "output_type": "execute_result"
    }
   ],
   "source": [
    "'abc' != 10"
   ]
  },
  {
   "cell_type": "code",
   "execution_count": 39,
   "metadata": {},
   "outputs": [
    {
     "ename": "TypeError",
     "evalue": "'>' not supported between instances of 'str' and 'int'",
     "output_type": "error",
     "traceback": [
      "\u001b[0;31m---------------------------------------------------------------------------\u001b[0m",
      "\u001b[0;31mTypeError\u001b[0m                                 Traceback (most recent call last)",
      "\u001b[0;32m<ipython-input-39-82fc87635b62>\u001b[0m in \u001b[0;36m<module>\u001b[0;34m\u001b[0m\n\u001b[0;32m----> 1\u001b[0;31m \u001b[0;34m'abc'\u001b[0m \u001b[0;34m>\u001b[0m \u001b[0;36m10\u001b[0m\u001b[0;34m\u001b[0m\u001b[0;34m\u001b[0m\u001b[0m\n\u001b[0m",
      "\u001b[0;31mTypeError\u001b[0m: '>' not supported between instances of 'str' and 'int'"
     ]
    }
   ],
   "source": [
    "'abc' > 10"
   ]
  },
  {
   "cell_type": "code",
   "execution_count": 40,
   "metadata": {},
   "outputs": [
    {
     "data": {
      "text/plain": [
       "True"
      ]
     },
     "execution_count": 40,
     "metadata": {},
     "output_type": "execute_result"
    }
   ],
   "source": [
    "'abc' > '10'"
   ]
  },
  {
   "cell_type": "markdown",
   "metadata": {},
   "source": [
    "## 12. Jaká je hodnota proměnné po provedení příkazů:"
   ]
  },
  {
   "cell_type": "code",
   "execution_count": 41,
   "metadata": {},
   "outputs": [
    {
     "data": {
      "text/plain": [
       "False"
      ]
     },
     "execution_count": 41,
     "metadata": {},
     "output_type": "execute_result"
    }
   ],
   "source": [
    "'abc' < 'ABC' < 'def' < 'zajíc'"
   ]
  },
  {
   "cell_type": "code",
   "execution_count": 42,
   "metadata": {},
   "outputs": [
    {
     "data": {
      "text/plain": [
       "True"
      ]
     },
     "execution_count": 42,
     "metadata": {},
     "output_type": "execute_result"
    }
   ],
   "source": [
    "'ABC' < 'abc' < 'def' < 'zajíc'"
   ]
  },
  {
   "cell_type": "markdown",
   "metadata": {},
   "source": [
    "## 13. Na srazu jsme měli program, který píše různé nesmysly podle uživatelem zadaného věku.\n",
    "\n",
    "Zkus napsat program, který píše hlášky podle zadané rychlosti chůze, váhy ulovené ryby, počtu tykadel, teploty vody nebo třeba vzdálenosti od rovníku."
   ]
  },
  {
   "cell_type": "code",
   "execution_count": null,
   "metadata": {},
   "outputs": [],
   "source": [
    "velikost_ryby = int(input(\"Jak velkou jsi chytil rybu (v cm)? \"))\n",
    "opravdova_ryba = velikost_ryby > 0\n",
    "\n",
    "if opravdova_ryba:\n",
    "    if velikost_ryby < 20:\n",
    "        print(\"Takže neonka z akvaria\")\n",
    "    elif velikost_ryby < 40:\n",
    "        print(\"Zřejmě jsi chytil kapra\")\n",
    "    elif velikost_ryby < 100:\n",
    "        print(\"To musela být alespoň štika\")\n",
    "    elif velikost_ryby < 200:\n",
    "        print(\"Nejmenuješ se Jakub Vágner?\")\n",
    "    else:\n",
    "        print(\"Ty jsi teda pěknej kecal\")\n",
    "else:\n",
    "    print(\"Ryba musí mít kladnou velikost\")"
   ]
  },
  {
   "cell_type": "code",
   "execution_count": null,
   "metadata": {},
   "outputs": [],
   "source": [
    "velikost_ryby = int(input(\"Jak velkou jsi chytil rybu (v cm)? \"))  # TODO: Co kdyz nekdo napise \"padesat\"?\n",
    "\n",
    "if not velikost_ryby > 0:\n",
    "    print(\"Velikost ryby v cm musí být kladné číslo!\")\n",
    "    # FIXME\n",
    "    # XXX: Az budeme vedet, jak ukoncit program, tak ho tady ukoncime. :-)\n",
    "    # TODO\n",
    "    \n",
    "if velikost_ryby >= 200:\n",
    "    print(\"Ty jsi teda pěknej kecal\")\n",
    "elif velikost_ryby >= 100:\n",
    "    print(\"Nejmenuješ se Jakub Vágner?\")\n",
    "elif velikost_ryby >= 40:\n",
    "    print(\"To musela být alespoň štika\")\n",
    "elif velikost_ryby >= 20:\n",
    "    print(\"Zřejmě jsi chytil kapra\")    \n",
    "else:\n",
    "    print(\"Takže neonka z akvaria\")"
   ]
  },
  {
   "cell_type": "markdown",
   "metadata": {},
   "source": [
    "## 14. Napiš program, který po zadání správného hesla vypíše nějakou tajnou informaci."
   ]
  },
  {
   "cell_type": "markdown",
   "metadata": {},
   "source": [
    "- J.A.Komenský narozen 1592\n",
    "- Ve čtvrtek budeme chytřejší!!!\n",
    "- Včera jsem snědla celou čokoládu!\n",
    "- Kabely jsou za vraty v úlu.\n",
    "- Výborně! Nezapomeň si vzít ručník a vyčkej na příjezd Vogonů\n",
    "- Gratuluji, zde je Tvé tajemství. Tepelná vodivost vodíku je 0,1815 W⋅m−1⋅K−1.\n",
    "- Vaše heslo je nejbezpečnější na světě.\n",
    "- Snědla jsem ti čokoládu!\n",
    "- Rok 2020 je rokem přestupným a 29. února bude v sobotu\n",
    "- V Olomouci právě běží programátorský kurz pro ženy bez potřeby žádných předchozích programátorských znalostí a já jsem toho součástí. Nepřidáš se? Je to super! ☺\n"
   ]
  },
  {
   "cell_type": "markdown",
   "metadata": {},
   "source": [
    "## 17. Zkus přepsat Kámen, Nůžky, Papír pomocí and a or.\n",
    "\n",
    "Dokážeš docílit toho, aby se každý z řetězců `'Plichta.'`, `'Počítač vyhrál.'` a `'Vyhrála jsi!'` objevil v programu jen jednou, aniž bys tyhle řetězce musela přiřazovat do proměnných?"
   ]
  },
  {
   "cell_type": "code",
   "execution_count": null,
   "metadata": {},
   "outputs": [],
   "source": [
    "from random import randrange\n",
    "tah_pocitace = randrange(3)\n",
    "tah_cloveka = str(input('Vyber si kámen, nůžky nebo papír: '))\n",
    "if tah_pocitace == 0:\n",
    "    print(\"Počítač vybral kámen.\")\n",
    "if tah_pocitace == 1:\n",
    "    print(\"Počítač vybral nůžky.\")\n",
    "else:\n",
    "    print(\"Počítač vybral papír.\")\n",
    "if tah_pocitace == 0 and tah_cloveka == 'kámen' or tah_pocitace == 1 and tah_cloveka == 'nůžky' or tah_pocitace == 2 and tah_cloveka == 'papír':\n",
    "  print('Plichta!')\n",
    "elif tah_pocitace == 0 and tah_cloveka == 'nůžky' or tah_pocitace == 1 and tah_cloveka == 'papír' or tah_pocitace == 2 and tah_cloveka == 'kámen':\n",
    "  print('Počítač vyhrál.')\n",
    "else:\n",
    "  print('Vyhrála jsi!')"
   ]
  },
  {
   "cell_type": "code",
   "execution_count": null,
   "metadata": {},
   "outputs": [],
   "source": [
    "from random import randrange\n",
    "tah_pc = randrange(3)\n",
    "tah_cloveka = input(\"Vyber si kámen, nůžky nebo papír: \")\n",
    "\n",
    "# Tah počítače\n",
    "if tah_pc == 0:\n",
    "    tah_pc = \"kámen\"\n",
    "    print(\"PC hraje kámen\")\n",
    "elif tah_pc == 1:\n",
    "    tah_pc = \"nůžky\"\n",
    "    print(\"PC hraje nůžky\")\n",
    "else:\n",
    "    tah_pc = \"papír\"\n",
    "    print(\"PC hraje papír\")\n",
    "\n",
    "# Vyhodnocení hry\n",
    "if tah_cloveka == tah_pc:\n",
    "    print(\"Plichta\")\n",
    "elif ((tah_cloveka == \"kámen\") and (tah_pc == \"nůžky\")) or ((tah_cloveka == \"nůžky\") and (tah_pc == \"papír\")) or ((tah_cloveka == \"papír\") and (tah_pc == \"kámen\")):\n",
    "    print(\"Vyhrál jsi!\")\n",
    "else:\n",
    "    print(\"Prohrál jsi\")"
   ]
  }
 ],
 "metadata": {
  "kernelspec": {
   "display_name": "Python 3",
   "language": "python",
   "name": "python3"
  },
  "language_info": {
   "codemirror_mode": {
    "name": "ipython",
    "version": 3
   },
   "file_extension": ".py",
   "mimetype": "text/x-python",
   "name": "python",
   "nbconvert_exporter": "python",
   "pygments_lexer": "ipython3",
   "version": "3.6.9"
  }
 },
 "nbformat": 4,
 "nbformat_minor": 4
}
