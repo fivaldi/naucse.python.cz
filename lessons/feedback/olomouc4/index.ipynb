{
 "cells": [
  {
   "cell_type": "markdown",
   "metadata": {},
   "source": [
    "# Zpětná vazba k projektům lekce *Jeden nový cyklus a procvičování*"
   ]
  },
  {
   "cell_type": "markdown",
   "metadata": {},
   "source": [
    "## Pochvala za aktivitu\n",
    "\n",
    "- **Věrka**\n",
    "- Aleš\n",
    "- Marie\n",
    "- Markéta\n",
    "- Martina\n",
    "- Martin\n",
    "- Lenka\n",
    "- všichni, kdo (do)odevzdali domácí projekty..."
   ]
  },
  {
   "cell_type": "markdown",
   "metadata": {},
   "source": [
    "## Cyklus for...else"
   ]
  },
  {
   "cell_type": "code",
   "execution_count": 1,
   "metadata": {},
   "outputs": [
    {
     "name": "stdout",
     "output_type": "stream",
     "text": [
      "0\n",
      "1\n",
      "2\n"
     ]
    }
   ],
   "source": [
    "for i in range(5):\n",
    "    print(i)\n",
    "    if i == 2:\n",
    "        break\n",
    "else:\n",
    "    print(\"Jak vypsat tento text?\")"
   ]
  },
  {
   "cell_type": "code",
   "execution_count": 2,
   "metadata": {},
   "outputs": [
    {
     "name": "stdout",
     "output_type": "stream",
     "text": [
      "0\n",
      "1\n",
      "2\n",
      "V cyklu nesmí nastat break, aby se provedl kód za else:\n",
      "3\n",
      "4\n",
      "Jak vypsat tento text?\n"
     ]
    }
   ],
   "source": [
    "for i in range(5):\n",
    "    print(i)\n",
    "    if i == 2:\n",
    "        print(\"V cyklu nesmí nastat break, aby se provedl kód za else:\")\n",
    "else:\n",
    "    print(\"Jak vypsat tento text?\")"
   ]
  },
  {
   "cell_type": "markdown",
   "metadata": {},
   "source": [
    "## Nastavení hodnoty proměnné dle podmínky"
   ]
  },
  {
   "cell_type": "code",
   "execution_count": 3,
   "metadata": {},
   "outputs": [
    {
     "name": "stdout",
     "output_type": "stream",
     "text": [
      "8\n"
     ]
    }
   ],
   "source": [
    "mam_hlad = True\n",
    "koupit_rohliku = 8 if mam_hlad else 2\n",
    "print(koupit_rohliku)"
   ]
  },
  {
   "cell_type": "code",
   "execution_count": 4,
   "metadata": {},
   "outputs": [
    {
     "name": "stdout",
     "output_type": "stream",
     "text": [
      "2\n"
     ]
    }
   ],
   "source": [
    "mam_hlad = False\n",
    "koupit_rohliku = 8 if mam_hlad else 2\n",
    "print(koupit_rohliku)"
   ]
  },
  {
   "cell_type": "code",
   "execution_count": 5,
   "metadata": {},
   "outputs": [
    {
     "name": "stdout",
     "output_type": "stream",
     "text": [
      "2\n"
     ]
    }
   ],
   "source": [
    "mam_hlad = 0\n",
    "koupit_rohliku = 8 if mam_hlad else 2\n",
    "print(koupit_rohliku)"
   ]
  },
  {
   "cell_type": "code",
   "execution_count": 6,
   "metadata": {},
   "outputs": [
    {
     "name": "stdout",
     "output_type": "stream",
     "text": [
      "8\n"
     ]
    }
   ],
   "source": [
    "mam_hlad = 1\n",
    "koupit_rohliku = 8 if mam_hlad else 2\n",
    "print(koupit_rohliku)"
   ]
  },
  {
   "cell_type": "code",
   "execution_count": 7,
   "metadata": {},
   "outputs": [
    {
     "name": "stdout",
     "output_type": "stream",
     "text": [
      "8\n"
     ]
    }
   ],
   "source": [
    "mam_hlad = 2\n",
    "koupit_rohliku = 8 if mam_hlad else 2\n",
    "print(koupit_rohliku)"
   ]
  },
  {
   "cell_type": "code",
   "execution_count": 8,
   "metadata": {},
   "outputs": [
    {
     "name": "stdout",
     "output_type": "stream",
     "text": [
      "8\n"
     ]
    }
   ],
   "source": [
    "mam_hlad = \"0\"\n",
    "koupit_rohliku = 8 if mam_hlad else 2\n",
    "print(koupit_rohliku)"
   ]
  },
  {
   "cell_type": "code",
   "execution_count": 9,
   "metadata": {},
   "outputs": [
    {
     "name": "stdout",
     "output_type": "stream",
     "text": [
      "8\n"
     ]
    }
   ],
   "source": [
    "mam_hlad = \"1\"\n",
    "koupit_rohliku = 8 if mam_hlad else 2\n",
    "print(koupit_rohliku)"
   ]
  },
  {
   "cell_type": "code",
   "execution_count": 10,
   "metadata": {},
   "outputs": [
    {
     "name": "stdout",
     "output_type": "stream",
     "text": [
      "2\n"
     ]
    }
   ],
   "source": [
    "mam_hlad = \"\"\n",
    "koupit_rohliku = 8 if mam_hlad else 2\n",
    "print(koupit_rohliku)"
   ]
  },
  {
   "cell_type": "code",
   "execution_count": 11,
   "metadata": {},
   "outputs": [
    {
     "name": "stdout",
     "output_type": "stream",
     "text": [
      "2\n"
     ]
    }
   ],
   "source": [
    "mam_hlad = None\n",
    "koupit_rohliku = 8 if mam_hlad else 2\n",
    "print(koupit_rohliku)"
   ]
  },
  {
   "cell_type": "markdown",
   "metadata": {},
   "source": [
    "### Shrnutí `promenna = A if VYRAZ else B`\n",
    "\n",
    "\n",
    "Nastav proměnnou na hodnotu `A` (v našem příkladu `8`), když je splněna podmínka za `if`\n",
    "(např. `True`, nenulové číslo, neprázdný řetězec), jinak nastav na hodnotu B (v našem příkladu `2`).\n",
    "\n",
    "Na stejném principu funguje nám známé `if vyraz:` nebo `while vyraz:`, tzn. provede se\n",
    "nebo provádí se pro: `True`, nenulové číslo, neprázdný řetězec"
   ]
  },
  {
   "cell_type": "markdown",
   "metadata": {},
   "source": [
    "## Nastavení hodnot proměnných v jednom kroku (thanks to Věrka!)"
   ]
  },
  {
   "cell_type": "code",
   "execution_count": 12,
   "metadata": {},
   "outputs": [
    {
     "name": "stdout",
     "output_type": "stream",
     "text": [
      "2\n",
      "8\n"
     ]
    }
   ],
   "source": [
    "a = 8\n",
    "b = 2\n",
    "a, b = b, a\n",
    "print(a)\n",
    "print(b)"
   ]
  },
  {
   "cell_type": "code",
   "execution_count": 46,
   "metadata": {},
   "outputs": [
    {
     "name": "stdout",
     "output_type": "stream",
     "text": [
      "1 2 3\n"
     ]
    }
   ],
   "source": [
    "a, b, c = 1, 2, 3\n",
    "print(a, b, c)"
   ]
  },
  {
   "cell_type": "markdown",
   "metadata": {},
   "source": [
    "## Co funkce dělá vs. vrací"
   ]
  },
  {
   "cell_type": "code",
   "execution_count": 34,
   "metadata": {},
   "outputs": [
    {
     "name": "stdout",
     "output_type": "stream",
     "text": [
      "Ahoj\n"
     ]
    },
    {
     "data": {
      "text/plain": [
       "True"
      ]
     },
     "execution_count": 34,
     "metadata": {},
     "output_type": "execute_result"
    }
   ],
   "source": [
    "navratova_hodnota = print(\"Ahoj\")\n",
    "navratova_hodnota == None"
   ]
  },
  {
   "cell_type": "code",
   "execution_count": 36,
   "metadata": {},
   "outputs": [
    {
     "data": {
      "text/plain": [
       "True"
      ]
     },
     "execution_count": 36,
     "metadata": {},
     "output_type": "execute_result"
    }
   ],
   "source": [
    "from math import sin\n",
    "navratova_hodnota = sin(0.5)  # 0.479425538604203\n",
    "navratova_hodnota != None"
   ]
  },
  {
   "cell_type": "markdown",
   "metadata": {},
   "source": [
    "## Převod str -> int/float"
   ]
  },
  {
   "cell_type": "code",
   "execution_count": 41,
   "metadata": {},
   "outputs": [
    {
     "ename": "ValueError",
     "evalue": "invalid literal for int() with base 10: '8.9'",
     "output_type": "error",
     "traceback": [
      "\u001b[0;31m---------------------------------------------------------------------------\u001b[0m",
      "\u001b[0;31mValueError\u001b[0m                                Traceback (most recent call last)",
      "\u001b[0;32m<ipython-input-41-87adb426db4f>\u001b[0m in \u001b[0;36m<module>\u001b[0;34m\u001b[0m\n\u001b[0;32m----> 1\u001b[0;31m \u001b[0mint\u001b[0m\u001b[0;34m(\u001b[0m\u001b[0;34m'8.9'\u001b[0m\u001b[0;34m)\u001b[0m\u001b[0;34m\u001b[0m\u001b[0;34m\u001b[0m\u001b[0m\n\u001b[0m",
      "\u001b[0;31mValueError\u001b[0m: invalid literal for int() with base 10: '8.9'"
     ]
    }
   ],
   "source": [
    "int('8.9')"
   ]
  },
  {
   "cell_type": "code",
   "execution_count": 42,
   "metadata": {},
   "outputs": [
    {
     "data": {
      "text/plain": [
       "8.9"
      ]
     },
     "execution_count": 42,
     "metadata": {},
     "output_type": "execute_result"
    }
   ],
   "source": [
    "float('8.9')"
   ]
  },
  {
   "cell_type": "code",
   "execution_count": 43,
   "metadata": {},
   "outputs": [
    {
     "data": {
      "text/plain": [
       "8"
      ]
     },
     "execution_count": 43,
     "metadata": {},
     "output_type": "execute_result"
    }
   ],
   "source": [
    "int('8')"
   ]
  },
  {
   "cell_type": "markdown",
   "metadata": {},
   "source": [
    "## Cyklus for a řetězce"
   ]
  },
  {
   "cell_type": "code",
   "execution_count": 48,
   "metadata": {},
   "outputs": [
    {
     "name": "stdout",
     "output_type": "stream",
     "text": [
      "Ahoj\n",
      "světe!\n"
     ]
    }
   ],
   "source": [
    " for c in 'Ahoj', 'světe!':\n",
    "    print(c)"
   ]
  },
  {
   "cell_type": "code",
   "execution_count": 47,
   "metadata": {},
   "outputs": [
    {
     "name": "stdout",
     "output_type": "stream",
     "text": [
      "A\n",
      "h\n",
      "o\n",
      "j\n",
      " \n",
      "s\n",
      "v\n",
      "ě\n",
      "t\n",
      "e\n",
      "!\n"
     ]
    }
   ],
   "source": [
    " for c in 'Ahoj světe!':\n",
    "    print(c)"
   ]
  },
  {
   "cell_type": "markdown",
   "metadata": {},
   "source": [
    "## Cyklus for - zobecnění"
   ]
  },
  {
   "cell_type": "code",
   "execution_count": null,
   "metadata": {},
   "outputs": [],
   "source": [
    "for i in ...:\n",
    "    # nejaky kod"
   ]
  },
  {
   "cell_type": "markdown",
   "metadata": {},
   "source": [
    "Cyklus `for` provádí opakovaně odsazený kód tak dlouho, jak může / pokud může (ani jednou, několikrát, \"donekonečna\"). Pro každý jednotlivý průchod načte z toho, co je za `in` aktuální hodnotu do proměnné (v našem příkladu `i`), kterou lze uvnitř cyklu použít.\n",
    "\n",
    "### Příklady"
   ]
  },
  {
   "cell_type": "code",
   "execution_count": 1,
   "metadata": {},
   "outputs": [],
   "source": [
    "for i in range(0):\n",
    "    print(i)\n",
    "# odsazeny kod se nikdy neprovede"
   ]
  },
  {
   "cell_type": "code",
   "execution_count": 51,
   "metadata": {},
   "outputs": [
    {
     "name": "stdout",
     "output_type": "stream",
     "text": [
      "0\n",
      "1\n"
     ]
    }
   ],
   "source": [
    "for i in range(2):\n",
    "    print(i)"
   ]
  },
  {
   "cell_type": "code",
   "execution_count": null,
   "metadata": {},
   "outputs": [],
   "source": [
    "for i in iter(int, 1):  # iter(int, 1) dává: 0, 0, 0, 0, 0...\n",
    "    print(i)\n",
    "# vypisuje donekonecna:\n",
    "# 0\n",
    "# 0\n",
    "# 0\n",
    "# 0\n",
    "# 0\n",
    "# ..."
   ]
  },
  {
   "cell_type": "markdown",
   "metadata": {},
   "source": [
    "## Procvičování online\n",
    "\n",
    "- [Check.io](https://checkio.org/)\n",
    "- [edabit](https://edabit.com/)\n",
    "- *a mnoho dalších...*"
   ]
  },
  {
   "cell_type": "markdown",
   "metadata": {},
   "source": [
    "## Na co myslet při vývoji"
   ]
  },
  {
   "cell_type": "markdown",
   "metadata": {},
   "source": [
    "- Nástroje pro spolupráci (tzv. groupware)\n",
    "- \"pastebin\" služby (pozor, neukládat hesla a licencemi chráněný kód)\n",
    "- Snažit se ctít zadání, pozor na přidanou funkcionalitu\n",
    "- Zadání projektu:\n",
    "  - hra Oko bere: popis pravidel (rozbor na dílčí problémy -> \"kartičky\" -> pořadí/priority)\n",
    "  - Lampa: ukázka vstupu / výstupu (reálné testovací případy)\n",
    "- Nástroje pro tzv. debugování kódu: viz Slack\n",
    "- Kód:\n",
    "  - Komentáře, oč se jedná, licence, autor, rok...\n",
    "  \n",
    "    ```\n",
    "# Washing machine robot for every family in the world\n",
    "#\n",
    "# Copyright (c) 2015  Some Company, Inc.\n",
    "#\n",
    "# Permission is hereby granted, free of charge, to any person obtaining a copy\n",
    "# of this software and associated documentation files (the \"Software\"), to deal\n",
    "# in the Software without restriction, including without limitation the rights\n",
    "# to use, copy, modify, merge, publish, distribute, sublicense, and/or sell\n",
    "# copies of the Software, and to permit persons to whom the Software is\n",
    "# furnished to do so, subject to the following conditions:\n",
    "#\n",
    "# The above copyright notice and this permission notice shall be included in all\n",
    "# copies or substantial portions of the Software.\n",
    "#\n",
    "# THE SOFTWARE IS PROVIDED \"AS IS\", WITHOUT WARRANTY OF ANY KIND, EXPRESS OR\n",
    "# IMPLIED, INCLUDING BUT NOT LIMITED TO THE WARRANTIES OF MERCHANTABILITY,\n",
    "# FITNESS FOR A PARTICULAR PURPOSE AND NONINFRINGEMENT. IN NO EVENT SHALL THE\n",
    "# AUTHORS OR COPYRIGHT HOLDERS BE LIABLE FOR ANY CLAIM, DAMAGES OR OTHER\n",
    "# LIABILITY, WHETHER IN AN ACTION OF CONTRACT, TORT OR OTHERWISE, ARISING FROM,\n",
    "# OUT OF OR IN CONNECTION WITH THE SOFTWARE OR THE USE OR OTHER DEALINGS IN THE\n",
    "# SOFTWARE.\n",
    "#\n",
    "# Written by A B <ab@example.com>\n",
    "#            C D <cd@example.com>\n",
    "#            E F <ef@example.com>\n",
    "\n",
    "    ```\n",
    "  - Importy\n",
    "    - ``from turtle import forward``\n",
    "  - Výchozí hodnoty proměnných\n",
    "    - ``pocet_vystupu_na_mt_everest = 0``\n",
    "  - Načtení vstupů\n",
    "    - ``input(...)``\n",
    "  - Ošetření vstupů\n",
    "    - ``(A)no/(N)e?`` Nevím.\n",
    "  - Provedení klíčové funkcionality\n",
    "    - Záznam důležitých stavů do tzv. log souborů\n",
    "    - Včasné chybové hlášky uživateli/-ce\n",
    "    - Shromáždění informací pro výstup\n",
    "  - Výstup\n",
    "    - Pro \"lidské oko\" versus pro stroj\n",
    "    - Souhrny/statistiky versus data"
   ]
  }
 ],
 "metadata": {
  "kernelspec": {
   "display_name": "Python 3",
   "language": "python",
   "name": "python3"
  },
  "language_info": {
   "codemirror_mode": {
    "name": "ipython",
    "version": 3
   },
   "file_extension": ".py",
   "mimetype": "text/x-python",
   "name": "python",
   "nbconvert_exporter": "python",
   "pygments_lexer": "ipython3",
   "version": "3.6.9"
  }
 },
 "nbformat": 4,
 "nbformat_minor": 4
}
