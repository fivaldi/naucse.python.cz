{
 "cells": [
  {
   "cell_type": "markdown",
   "metadata": {},
   "source": [
    "# Zpětná vazba k projektům lekce *Cykly*"
   ]
  },
  {
   "cell_type": "markdown",
   "metadata": {},
   "source": [
    "## range"
   ]
  },
  {
   "cell_type": "code",
   "execution_count": 24,
   "metadata": {},
   "outputs": [
    {
     "name": "stdout",
     "output_type": "stream",
     "text": [
      "0\n",
      "1\n",
      "2\n",
      "3\n",
      "4\n"
     ]
    }
   ],
   "source": [
    "for i in range(0, 5):  # prava mez nikdy neni zahrnuta, posledni hodnota je 4\n",
    "    print(i)"
   ]
  },
  {
   "cell_type": "markdown",
   "metadata": {},
   "source": [
    "## Nastavení proměnné na novou hodnotu"
   ]
  },
  {
   "cell_type": "code",
   "execution_count": 20,
   "metadata": {},
   "outputs": [
    {
     "name": "stdout",
     "output_type": "stream",
     "text": [
      "Nové číslo: 1\n",
      "Opožděné číslo: 0\n",
      "\n",
      "Nové číslo: 2\n",
      "Opožděné číslo: 1\n",
      "\n",
      "Nové číslo: 3\n",
      "Opožděné číslo: 2\n",
      "\n",
      "Nové číslo: 4\n",
      "Opožděné číslo: 3\n",
      "\n",
      "Nové číslo: 5\n",
      "Opožděné číslo: 4\n",
      "\n"
     ]
    }
   ],
   "source": [
    "opozdene_cislo = 0\n",
    "nove_cislo = 0\n",
    "for i in range(5):\n",
    "    nove_cislo += 1\n",
    "    print(\"Nové číslo:\", nove_cislo)\n",
    "    print(\"Opožděné číslo:\", opozdene_cislo)\n",
    "    print()\n",
    "    opozdene_cislo = nove_cislo"
   ]
  },
  {
   "cell_type": "markdown",
   "metadata": {},
   "source": [
    "## Importy\n",
    "\n",
    "Není vhodné si až příliš ulehčovat práci. Programátoři jsou sice líní, ale ne až tak moc. :-)"
   ]
  },
  {
   "cell_type": "code",
   "execution_count": null,
   "metadata": {},
   "outputs": [],
   "source": [
    "# kdyby zelva mela funkci \"print\" (napr. pro vytisteni obrazku na tiskarnu)\n",
    "from turtle import *\n",
    "\n",
    "...\n",
    "\n",
    "print(\"Mona Lisa je hotova.\")\n",
    "Traceback (most recent call last):\n",
    "  ...\n",
    "FileNotFoundError: [Errno 2] No such file or directory: 'Mona Lisa je hotova.'"
   ]
  },
  {
   "cell_type": "markdown",
   "metadata": {},
   "source": [
    "## Přepisování názvů\n",
    "\n",
    "Raději ne:"
   ]
  },
  {
   "cell_type": "code",
   "execution_count": null,
   "metadata": {},
   "outputs": [],
   "source": [
    "min = 13"
   ]
  },
  {
   "cell_type": "markdown",
   "metadata": {},
   "source": [
    "Jak mám název své proměnné ověřit?"
   ]
  },
  {
   "cell_type": "code",
   "execution_count": null,
   "metadata": {},
   "outputs": [],
   "source": [
    ">>> min\n",
    "<built-in function min>"
   ]
  },
  {
   "cell_type": "markdown",
   "metadata": {},
   "source": [
    "## Výpočty hodnot\n",
    "\n",
    "Raději ne:"
   ]
  },
  {
   "cell_type": "code",
   "execution_count": null,
   "metadata": {},
   "outputs": [],
   "source": [
    "forward(71)  # ve skutecnosti 70.71067811865476..."
   ]
  },
  {
   "cell_type": "markdown",
   "metadata": {},
   "source": [
    "Správné řešení:"
   ]
  },
  {
   "cell_type": "code",
   "execution_count": null,
   "metadata": {},
   "outputs": [],
   "source": [
    "from math import sqrt\n",
    "forward(50 * sqrt(2))"
   ]
  },
  {
   "cell_type": "markdown",
   "metadata": {},
   "source": [
    "Pokud používám vypočtenou hodnotu častěji:"
   ]
  },
  {
   "cell_type": "code",
   "execution_count": null,
   "metadata": {},
   "outputs": [],
   "source": [
    "from math import sqrt\n",
    "uhlopricka = 50 * sqrt(2)\n",
    "\n",
    "forward(uhlopricka)\n",
    "...\n",
    "forward(uhlopricka)"
   ]
  },
  {
   "cell_type": "markdown",
   "metadata": {},
   "source": [
    "## Spirála\n",
    "\n",
    "Pěkné, jednoduché řešení:"
   ]
  },
  {
   "cell_type": "code",
   "execution_count": null,
   "metadata": {},
   "outputs": [],
   "source": [
    "from turtle import forward, left, right, exitonclick, penup, pendown  # nepouzite importy\n",
    "for i in range(720):\n",
    "    forward(i*2/100)\n",
    "    left(5)\n",
    "exitonclick()"
   ]
  },
  {
   "cell_type": "markdown",
   "metadata": {},
   "source": [
    "## Květina\n",
    "\n",
    "Opakující se kód:"
   ]
  },
  {
   "cell_type": "code",
   "execution_count": null,
   "metadata": {},
   "outputs": [],
   "source": [
    "for x in range(24):\n",
    "    for i in range(100):\n",
    "        forward(delka_strany)\n",
    "        left(1)\n",
    "    left(80)\n",
    "    for i in range(100):\n",
    "        forward(delka_strany)\n",
    "        left(1)"
   ]
  },
  {
   "cell_type": "markdown",
   "metadata": {},
   "source": [
    "Možnost zjednodušení kódu:"
   ]
  },
  {
   "cell_type": "code",
   "execution_count": null,
   "metadata": {},
   "outputs": [],
   "source": [
    "for x in range(24):\n",
    "    for i in range(200):\n",
    "        forward(delka_strany)\n",
    "        left(1)\n",
    "        if i == 99:\n",
    "            left(80)"
   ]
  },
  {
   "cell_type": "markdown",
   "metadata": {},
   "source": [
    "Opakující se kód, chybí odsazení komentářů:"
   ]
  },
  {
   "cell_type": "code",
   "execution_count": null,
   "metadata": {},
   "outputs": [],
   "source": [
    "#prvni pulka listu vlevo\n",
    "        for n in range(1,7):\n",
    "            left((60/n))\n",
    "            forward(10+s)\n",
    "        left(30)\n",
    "#druha pulka listu vlevo\n",
    "        for x in range(1,7):\n",
    "            left((60/x))\n",
    "            forward(10+s)"
   ]
  },
  {
   "cell_type": "markdown",
   "metadata": {},
   "source": [
    "## Komentáře a styl kódu\n",
    "\n",
    "- Dělat. Dělat. Dělat. :-)\n",
    "- Správně odsazovat.\n",
    "- Funkční části programu nebo logické úseky kódu oddělit jedním prázdným řádkem.\n",
    "- Radeji bez diakritiky, pokud jsou v cestine. :-)\n",
    "- Komentáře s očekávaným výstupem, např.: \"cyklus vypisuje postupne hodnoty 0, 1, 1, 2, 3, 5, 8, 13, 21...\""
   ]
  }
 ],
 "metadata": {
  "kernelspec": {
   "display_name": "Python 3",
   "language": "python",
   "name": "python3"
  },
  "language_info": {
   "codemirror_mode": {
    "name": "ipython",
    "version": 3
   },
   "file_extension": ".py",
   "mimetype": "text/x-python",
   "name": "python",
   "nbconvert_exporter": "python",
   "pygments_lexer": "ipython3",
   "version": "3.6.9"
  }
 },
 "nbformat": 4,
 "nbformat_minor": 4
}
